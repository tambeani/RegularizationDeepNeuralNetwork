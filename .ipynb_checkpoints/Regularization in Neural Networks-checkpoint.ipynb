{
 "cells": [
  {
   "cell_type": "markdown",
   "id": "baa9cbf1",
   "metadata": {},
   "source": [
    "## Understand the problem and read in the data\n",
    "\n",
    "The Kaggle challenge is about predicting the onset of diabetes in 5 years or less. Target variable is outcome, 1 = yes, the person becomes diabetic in 5 years, 0 = no. This is a binary classification problem.\n",
    "\n",
    "https://www.kaggle.com/uciml/pima-indians-diabetes-database/data"
   ]
  },
  {
   "cell_type": "code",
   "execution_count": null,
   "id": "332ac349",
   "metadata": {},
   "outputs": [],
   "source": [
    "'''Import packages '''\n",
    "import numpy as np\n",
    "import pandas as pd\n",
    "import matplotlib.pyplot as plt\n",
    "from keras.models import Sequential\n",
    "from keras.layers import Dense, Dropout\n",
    "from keras.constraints import maxnorm\n",
    "from sklearn.model_selection import train_test_split"
   ]
  }
 ],
 "metadata": {
  "kernelspec": {
   "display_name": "Python 3 (ipykernel)",
   "language": "python",
   "name": "python3"
  },
  "language_info": {
   "codemirror_mode": {
    "name": "ipython",
    "version": 3
   },
   "file_extension": ".py",
   "mimetype": "text/x-python",
   "name": "python",
   "nbconvert_exporter": "python",
   "pygments_lexer": "ipython3",
   "version": "3.9.11"
  }
 },
 "nbformat": 4,
 "nbformat_minor": 5
}
