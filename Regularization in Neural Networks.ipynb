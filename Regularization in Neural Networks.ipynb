{
 "cells": [
  {
   "cell_type": "markdown",
   "id": "be9ad304",
   "metadata": {},
   "source": [
    "## Understand the problem and read in the data\n",
    "\n",
    "The Kaggle challenge is about predicting the onset of diabetes in 5 years or less. Target variable is outcome, 1 = yes, the person becomes diabetic in 5 years, 0 = no. This is a binary classification problem.\n",
    "\n",
    "https://www.kaggle.com/uciml/pima-indians-diabetes-database/data\n",
    "\n",
    "### Contents:\n",
    "\n",
    "The dataset consists of several medical predictor & 1 target variable, Outcome.\n",
    "1. Pregnancies\n",
    "2. Glucose\n",
    "3. BloodPressure \n",
    "4. SkinThickness\n",
    "5. Insulin\n",
    "6. BMI\n",
    "7. DiabetesPedigreeFunction\n",
    "8. Age\n",
    "9. Outcome"
   ]
  },
  {
   "cell_type": "code",
   "execution_count": 1,
   "id": "002c147a",
   "metadata": {},
   "outputs": [],
   "source": [
    "'''Import packages '''\n",
    "import numpy as np\n",
    "import pandas as pd\n",
    "import matplotlib.pyplot as plt\n",
    "from keras.models import Sequential\n",
    "from keras.layers import Dense, Dropout\n",
    "from keras.constraints import maxnorm\n",
    "from sklearn.model_selection import train_test_split\n",
    "\n",
    "%matplotlib inline"
   ]
  },
  {
   "cell_type": "code",
   "execution_count": null,
   "id": "58df3dc0",
   "metadata": {},
   "outputs": [],
   "source": []
  },
  {
   "cell_type": "code",
   "execution_count": null,
   "id": "aa34eaf4",
   "metadata": {},
   "outputs": [],
   "source": []
  }
 ],
 "metadata": {
  "kernelspec": {
   "display_name": "Python 3 (ipykernel)",
   "language": "python",
   "name": "python3"
  },
  "language_info": {
   "codemirror_mode": {
    "name": "ipython",
    "version": 3
   },
   "file_extension": ".py",
   "mimetype": "text/x-python",
   "name": "python",
   "nbconvert_exporter": "python",
   "pygments_lexer": "ipython3",
   "version": "3.9.11"
  }
 },
 "nbformat": 4,
 "nbformat_minor": 5
}
